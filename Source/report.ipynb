{
 "cells": [
  {
   "cell_type": "markdown",
   "id": "cf69c2e1",
   "metadata": {},
   "source": [
    "# <center style='color: darkblue'> Project 1 report: *Color Compression* </center>"
   ]
  },
  {
   "cell_type": "markdown",
   "id": "acdd0d18",
   "metadata": {},
   "source": [
    "## <font style='color: darkblue'> Table of contents\n",
    "1. [Project summary](#c1) <br>\n",
    "    1.1. [Information](#c11) <br>\n",
    "    1.2. [Introduction](#c12) <br>\n",
    "2. [Program](#c2) <br>\n",
    "    2.1. [K-means Clustering algorithm idea](#c21) <br>\n",
    "    2.2. [Function description](#c22) <br>\n",
    "3. [Test results and Remarks](#c3) <br>\n",
    "    3.1. [Test results](#c31) <br>\n",
    "    3.2. [Remarks](#c32) <br>\n",
    " \n",
    "[Reference](#ref)"
   ]
  },
  {
   "cell_type": "markdown",
   "id": "f1122205",
   "metadata": {},
   "source": [
    "## <font style='color: darkblue'> 1. Project summary <a id=\"c1\"></a>\n",
    "### <font style='color: darkblue'> 1.1. Information <a id=\"c11\"></a>\n",
    "**Project**\n",
    "> Color Compression\n",
    "\n",
    "**Student**\n",
    "> Full name: Huynh Duc Thien <br>\n",
    "ID: 21127693 <br>\n",
    "Contact: hdthien21@clc.fitus.edu.vn <br>\n",
    "Course: MTH00057_21CLC07 <br>\n",
    "Class: 21CLC07\n",
    "\n",
    "**Lecturers**\n",
    "> Teacher, Nguyen Dinh Thuc <br>\n",
    "Teacher, Nguyen Van Quang Huy <br>\n",
    "Teacher, Ngo Dinh Hy <br>\n",
    "Teacher, Tran Ha Son <br>\n",
    "\n",
    "### <font style='color: darkblue'> 1.2. Introduction <a id=\"c12\"></a>\n",
    "> Color compression is a crucial technique in image processing, enabling efficient storage and transmission of images. In this project, we focus on exploring the application of the K-Means clustering algorithm to achieve color compression. The primary objective is to reduce the number of colors in an image while maintaining its visual quality. We investigate the mathematical principles of K-Means, analyze its convergence properties, and implement the algorithm to demonstrate its effectiveness in color reduction. By the end of this study, readers will gain a comprehensive understanding of the K-Means algorithm's role in color compression and its potential implications in various image processing applications."
   ]
  },
  {
   "cell_type": "markdown",
   "id": "f82e406a",
   "metadata": {},
   "source": [
    "## <font style='color: darkblue'> 2. Program <a id=\"c2\"></a>\n",
    "### <font style='color: darkblue'> 2.1. K-means Clustering algorithm idea<a id=\"c21\"></a>   \n",
    "- Step 1: Initialization\n",
    "    - Choose the ***k*** number of clusters to create in the dataset.\n",
    "    - Initialize ***k*** cluster centroids, by chosing randomly in dataset or generating randomly.\n",
    "- Step 2: Assign Pixels to Clusters\n",
    "    - For each pixel in the dataset, calculate the distance (using Euclidean distance) to each centroid.\n",
    "    - Assign the pixel to the cluster with the nearest centroid.\n",
    "    $$ a_{i} = \\underset{k=1,...,K}{\\textrm{arg min}} {\\lVert p_{i}−c_{k} \\rVert} $$\n",
    "<br>\n",
    "- Step 3: Update Cluster Centroids\n",
    "    - After assigning data points to clusters, recalculate the centroids of each cluster by calculating the man of all pixels assigned for new centroid coordinates.\n",
    "    $$ c_{k} = \\frac{1}{\\vert S_{k} \\vert} \\sum \\limits _{p \\in S_{k}} p $$\n",
    "- Step 4: Convergence check\n",
    "    - Check if the algorithm has converged, i.e, if the centroids have stop changing significantly or the maximum number of iterations has been reached.\n",
    "    - If the convergence criteria are not met, go back to *Step 2* and reassign pixels to clusters\n",
    "- Step 5: Finalize Clusters\n",
    "    - Once th algorithm has converged, the clusters are finalized, and each pixel belongs to one of the ***k*** clusters."
   ]
  },
  {
   "cell_type": "markdown",
   "id": "e9e74958",
   "metadata": {},
   "source": [
    "### <font style='color: darkblue'> 2.2. Function description <a id=\"c22\"></a> \n",
    "**Library** <br>\n",
    "An additional `random` library is imported for randomly generating `init_centroids`"
   ]
  },
  {
   "cell_type": "code",
   "execution_count": null,
   "id": "54f75f73",
   "metadata": {},
   "outputs": [],
   "source": [
    "from PIL import Image\n",
    "import matplotlib.pyplot as plt\n",
    "import numpy as np\n",
    "import random"
   ]
  },
  {
   "cell_type": "markdown",
   "id": "a9551303",
   "metadata": {},
   "source": [
    "**Auxilary function**\n",
    "- Calulate distance between pixels and centroids (applying Euclidean distance):\n",
    "    $$ distance = \\sqrt {\\sum \\limits _{a_{i} \\in v_{a}, b_{i} \\in v_{b}} (a_{i}^2 - b_{i}^2)} $$"
   ]
  },
  {
   "cell_type": "code",
   "execution_count": null,
   "id": "3b405d30",
   "metadata": {},
   "outputs": [],
   "source": [
    "# p1, p2 are vector represent color (RGB) of pixel\n",
    "def euclidean_distance(p1, p2):\n",
    "    return np.linalg.norm(np.array(p1) - np.array(p2))"
   ]
  },
  {
   "cell_type": "markdown",
   "id": "e8f610c3",
   "metadata": {},
   "source": [
    "- Check if the algorithm has converged, the admissible distance is smaller or equal to 5:"
   ]
  },
  {
   "cell_type": "code",
   "execution_count": null,
   "id": "e7a98735",
   "metadata": {},
   "outputs": [],
   "source": [
    "# cendt1 is the old centroids list, cendt2 is the new centroids list\n",
    "def is_convergence(cendt1, cendt2):\n",
    "    for c1, c2 in zip(cendt1, cendt2):\n",
    "        for pv in range(3):\n",
    "            if c1[pv] < c2[pv] - 5 or c1[pv] > c2[pv] + 5:\n",
    "                return False\n",
    "    return True"
   ]
  },
  {
   "cell_type": "markdown",
   "id": "5fdd081c",
   "metadata": {},
   "source": [
    "- Get row index and column index of a given pixel:"
   ]
  },
  {
   "cell_type": "code",
   "execution_count": null,
   "id": "98737b90",
   "metadata": {},
   "outputs": [],
   "source": [
    "# idx is the index of pixel in one-dimensional array, width is the width of the picture frame\n",
    "def get_pix(idx, width):\n",
    "    row = idx // width\n",
    "    col = idx % width\n",
    "    return row, col"
   ]
  },
  {
   "cell_type": "markdown",
   "id": "b2896113",
   "metadata": {},
   "source": [
    "**Kmeans function**\n",
    "- Applying k-means clustering algorithm for color compression, four parameters including `img_1d` is an one-dimensional array representing input image, `k_clusters` is an integer defining ***k*** value, `max_iter` defining the max number of iterations that can occur, `init_centroids` is the state of generating centroids. The function return the `centroids` storing colors, and `labels` storing labels for pixels."
   ]
  },
  {
   "cell_type": "code",
   "execution_count": null,
   "id": "b7e16735",
   "metadata": {},
   "outputs": [],
   "source": [
    "def kmeans(img_1d, k_clusters, max_iter, init_centroids='random'):\n",
    "    height, width, _ = img_1d.shape\n",
    "    \n",
    "    (...)\n",
    "    \n",
    "    return centroids, labels"
   ]
  },
  {
   "cell_type": "markdown",
   "id": "02246ba8",
   "metadata": {},
   "source": [
    "> * Initializing ***k*** centroids, if `init_centroids` is \"random\", the value of each centroid will be randomly generated, if it is \"in_pixels\", the value of each centroid will be assigned equally to a random pixel in the input image:"
   ]
  },
  {
   "cell_type": "code",
   "execution_count": null,
   "id": "4ebb3b67",
   "metadata": {},
   "outputs": [],
   "source": [
    "    centroids = None\n",
    "    if init_centroids == 'random':\n",
    "        centroids = [[random.randint(0, 256) for _ in range(3)] for _ in range(k_clusters)]\n",
    "    elif init_centroids == 'in_pixels':\n",
    "        centroids = [img_1d[random.randint(0, height)][random.randint(0, width)] for _ in range(k_clusters)]\n",
    "    else:\n",
    "        raise ValueError('init_centroids must be \"random\" or \"in_pixels\"')"
   ]
  },
  {
   "cell_type": "markdown",
   "id": "010dd722",
   "metadata": {},
   "source": [
    "> * Calculating the distances between each centroids and pixels, and assigning each pixels to the closest centroid:"
   ]
  },
  {
   "cell_type": "code",
   "execution_count": null,
   "id": "e62bc866",
   "metadata": {},
   "outputs": [],
   "source": [
    "        clusters = [[] for _ in range(k_clusters)]\n",
    "        dis_centd = [[-1 for _ in range(k_clusters)]] * (height * width)\n",
    "\n",
    "        for i in range(height * width):\n",
    "            min_distance = float('inf')\n",
    "            pos = -1\n",
    "            row, col = get_pix(i, width)\n",
    "            for j in range(k_clusters):\n",
    "                dis_centd[i][j] = euclidean_distance(centroids[j], img_1d[row][col])\n",
    "                if dis_centd[i][j] < min_distance:\n",
    "                    min_distance = dis_centd[i][j]\n",
    "                    pos = j\n",
    "            assigned[i] = pos\n",
    "            clusters[pos].append(list(img_1d[row][col]))"
   ]
  },
  {
   "cell_type": "markdown",
   "id": "460d7d9e",
   "metadata": {},
   "source": [
    "> * Check if the algorithm has converged: "
   ]
  },
  {
   "cell_type": "code",
   "execution_count": null,
   "id": "463fd6e2",
   "metadata": {},
   "outputs": [],
   "source": [
    "        if is_convergence(centroids, new_centroids):\n",
    "            break\n",
    "        else:\n",
    "            del centroids\n",
    "            centroids = new_centroids"
   ]
  },
  {
   "cell_type": "markdown",
   "id": "34489e96",
   "metadata": {},
   "source": [
    "**Main function** <br>\n",
    "The main function provides an simple console UI for inputs and outputs. <br>\n",
    "In this program, the user has to input the right image-path, if not, no action will be maded. The image data is read by using `Image` in `PIL` library, i.e, reading pixel colors and indexs. The received data will be converted to a NumPY array to facilitate color manipulation. Both input image and segmented then will be displayed for comparisons (using `pylot` of `matplotlib` library). The user is given the option to chose if they preferred to save the segmented or not, two formats `.png` and `.pdf` are provided if needed."
   ]
  },
  {
   "cell_type": "code",
   "execution_count": null,
   "id": "309848d5",
   "metadata": {},
   "outputs": [],
   "source": [
    "def main():\n",
    "    # load image\n",
    "    img_path = str(input('Path to image: '))\n",
    "    try:\n",
    "        image = Image.open(img_path)\n",
    "    except:\n",
    "        print('can not open image!')\n",
    "        return\n",
    "    \n",
    "    inp_img = np.array(image)\n",
    "    shape = inp_img.shape\n",
    "    \n",
    "    # console UI\n",
    "    print('\\nK-means Clustering algorithm for color compression')    \n",
    "    k_clusters = int(input('Number of clusters: '))\n",
    "    max_iters = int(input('Max iterations: '))\n",
    "\n",
    "    centroids, labels = kmeans(inp_img, k_clusters, max_iters, 'in_pixels')\n",
    "\n",
    "    seg_img = np.array(image)\n",
    "    for i in range(shape[0]):\n",
    "        for j in range(shape[1]):\n",
    "            seg_img[i][j] = centroids[labels[i][j]].copy()    \n",
    "    \n",
    "    # display the original and segmented images\n",
    "    fig, axs = plt.subplots(2, 1, figsize=(26, 14))\n",
    "    axs[0].imshow(inp_img)\n",
    "    axs[0].set_title(\"Original Image\")\n",
    "    axs[0].axis(\"off\")\n",
    "\n",
    "    axs[1].imshow(seg_img)\n",
    "    axs[1].set_title(\"Segmented Image\")\n",
    "    axs[1].axis(\"off\")\n",
    "\n",
    "    plt.tight_layout()\n",
    "    plt.show()\n",
    "    \n",
    "    # saving image option\n",
    "    print('\\n\\nChose an extension for saving segmented image: ')\n",
    "    print('1. png')\n",
    "    print('2. pdf')\n",
    "    print('0. no saving')\n",
    "    ext = int(input('Your choice: '))\n",
    "    \n",
    "    if ext == 1:\n",
    "        plt.imsave('output.png', seg_img)\n",
    "    elif ext == 2:\n",
    "        plt.imsave('output.pdf', seg_img)\n",
    "    else:\n",
    "        return\n",
    "    \n",
    "if __name__ == \"__main__\":\n",
    "    main()"
   ]
  },
  {
   "cell_type": "markdown",
   "id": "22ad8104",
   "metadata": {},
   "source": [
    "## <font style='color: darkblue'> 3. Test results and Remarks <a id=\"c3\"> </a>\n",
    "### <font style='color: darkblue'> 3.1. Test results<a id=\"c31\">\n",
    "\n",
    "- Test case 1:\n",
    "    - Original image: \n",
    "    <img src=\"https://drive.google.com/uc?id=1ub0TCWaaauQV_QexGr0o5DyLAys7N98z\" alt=\"painting.png\" width=\"278px\" >\n",
    "    \n",
    "    - Result images:\n",
    "    <img src=\"https://drive.google.com/uc?id=1-aM7lpxMbbgHXeR4rPLP6iABrESSmSR7\" alt=\"painting.png\" width=\"900px\" >\n",
    "    <img src=\"https://drive.google.com/uc?id=12dpzJ8fGvNzKPD7jqYk0t3Ci43oCkjsO\" alt=\"painting.png\" width=\"900px\" >\n",
    "    \n",
    "***image detail*** <br>\n",
    "> [test1_org](https://drive.google.com/uc?id=1ub0TCWaaauQV_QexGr0o5DyLAys7N98z) <br>\n",
    "[test1_in_pixel_k=3](https://drive.google.com/uc?id=1qB7zl6d7m-bpRWXYxbhB8wMqvGMMVF2q)<br>\n",
    "[test1_in_pixel_k=5](https://drive.google.com/uc?id=1ZXCre8Ym5ucGkZT2gSjpKFBG2OFyNz7Y)<br>\n",
    "[test1_in_pixel_k=7](https://drive.google.com/uc?id=1XJ71sAHsno1koWQXwycQs5krEzbPyWLK)<br>\n",
    "[test1_random_k=3](https://drive.google.com/uc?id=1g--FMji54ZdTZaETEzvxxl7oNb9tVJY5)<br>\n",
    "[test1_random_k=5](https://drive.google.com/uc?id=1a19Ub81HFg3TY0Coxdn-E-2ydcVNlXMR)<br> \n",
    "[test1_random_k=7](https://drive.google.com/uc?id=1Ye1sJ_SLoWKSpcSTQmgJSs72iz-6gHoW)<br>\n",
    "\n",
    "- Test case 2:\n",
    "    - Original image: \n",
    "    <img src=\"https://drive.google.com/uc?id=1mixtyOa5bJCYGHlkbd1R3Kyo3XiL9eh3\" alt=\"painting.png\" width=\"278px\" >\n",
    "    \n",
    "    - Result images:\n",
    "    <img src=\"https://drive.google.com/uc?id=1wngcWNVbTcpSgDnvE4fut7kcu4xw-ROq\" alt=\"painting.png\" width=\"900px\" >\n",
    "    <img src=\"https://drive.google.com/uc?id=1sTM7ehbgwIkbBxHheHUW_OQvUpvJwGoZ\" alt=\"painting.png\" width=\"900px\" >\n",
    "\n",
    "***image detail*** <br>\n",
    "> [test2_org](https://drive.google.com/uc?id=1mixtyOa5bJCYGHlkbd1R3Kyo3XiL9eh3) <br>\n",
    "[test2_in_pixel_k=3](https://drive.google.com/uc?id=1USOzjazy7xQCMWvTWYHzogHdBCUrH03E)<br>\n",
    "[test2_in_pixel_k=5](https://drive.google.com/uc?id=10krzon_h44pb7L30qqDcTLizNxDRKsPR)<br>\n",
    "[test2_in_pixel_k=7](https://drive.google.com/uc?id=1R7m0w6vF1Gw12X3pN32QjiF8UiFk-JUv)<br>\n",
    "[test2_random_k=3](https://drive.google.com/uc?id=1WddfQLQrGmAo0LsJxJIc4yaaYLxKsrMk)<br>\n",
    "[test2_random_k=5](https://drive.google.com/uc?id=1uQ5AWsYJ9z2E3BgzlAXS44dLs8Vsdxii)<br> \n",
    "[test2_random_k=7](https://drive.google.com/uc?id=1Z1dwHKIQ85Svs-Z9T0euXDSoq-rJDNX9)<br>"
   ]
  },
  {
   "cell_type": "markdown",
   "id": "59dd82f8",
   "metadata": {},
   "source": [
    "### <font style='color: darkblue'> 3.2. Remarks<a id=\"c32\">\n",
    "- Test case 1:\n",
    "> In this test case, both `in_pixels` and `random` scenarios produce quite good results with a `max_iters` of 10 for each evaluation. The content of the image is still adequately reflected, and as ***k*** increases, the quality of the output images becomes sharper, with colors being more abundant and closer to the content of the original image. <br>\n",
    "> In the `in_pixels` mode, the colors are vibrant and diverse due to the ability to select distinct color clusters from the original image. On the other hand, in the `random` mode, although the output image is not as colorful, with a large value of k, it helps enhance the shading layers significantly, creating contrast and intricate details for the image.\n",
    "    \n",
    "- Test case 2:\n",
    "> In this test case, for the original image with a dark color palette and harmonious but subdued colors, both `in_pixels` and `random` scenarios produce quite good and relatively similar results with a `max_iters` of 10 for each evaluation. The content of the image is still well-preserved and easily recognizable. As ***k*** increases, the quality of the output images becomes sharper, with shading, contrast, and reflections of objects being quite clear and even the transparency of objects being well-represented. <br>\n",
    "> Although the bright color tones in the original image are not well-expressed, the overall content is still adequately captured, and the resulting images are lively and vibrant.\n",
    "\n",
    "- Conclusion:\n",
    "> In conclusion, the k-means clustering algorithm performs quite well with a reasonably reasonable runtime. The `in_pixels` mode seems to yield better results for images with distinct color palettes, but for monochromatic or low-color images, the results are relatively similar at low `max_iters`. With a large number of iterations, the results of both modes are almost the same and produce good outcomes."
   ]
  },
  {
   "cell_type": "markdown",
   "id": "dec4d8d5",
   "metadata": {},
   "source": [
    "## <font style='color: darkblue'> Reference <a id=\"ref\"> </a>\n",
    "**Syntax**\n",
    "> [Markdown paragraph syntax](https://medium.com/game-of-data/12-things-to-know-about-jupyter-notebook-markdown-3f6cef811707) <br>\n",
    "[Mark down math formula syntax](https://jupyterbook.org/en/stable/content/math.html) <br>\n",
    "\n",
    "**Algorithm**\n",
    "> [K-means Clustering algorithm idea - 1st source](https://en.wikipedia.org/wiki/K-means_clustering) <br>\n",
    "[K-means Clustering algorithm idea - 2nd source](https://www.javatpoint.com/k-means-clustering-algorithm-in-machine-learning) <br>\n",
    "\n",
    "**Library**\n",
    "> [Image PIL](https://pillow.readthedocs.io/en/stable/reference/Image.html) <br>\n",
    "[mathplotlib.pylot](https://matplotlib.org/3.5.3/api/_as_gen/matplotlib.pyplot.html) <br>\n",
    "[numpy](https://numpy.org/) <br>\n",
    "    \n",
    "    \n",
    "    \n",
    "<center>-The end-</center>"
   ]
  }
 ],
 "metadata": {
  "kernelspec": {
   "display_name": "Python 3 (ipykernel)",
   "language": "python",
   "name": "python3"
  },
  "language_info": {
   "codemirror_mode": {
    "name": "ipython",
    "version": 3
   },
   "file_extension": ".py",
   "mimetype": "text/x-python",
   "name": "python",
   "nbconvert_exporter": "python",
   "pygments_lexer": "ipython3",
   "version": "3.10.9"
  }
 },
 "nbformat": 4,
 "nbformat_minor": 5
}
